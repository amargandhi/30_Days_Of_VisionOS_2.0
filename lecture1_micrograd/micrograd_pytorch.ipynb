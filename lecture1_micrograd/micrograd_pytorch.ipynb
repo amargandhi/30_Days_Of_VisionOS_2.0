{
 "cells": [
  {
   "cell_type": "code",
   "execution_count": 1,
   "id": "02c72a10-0162-4dd8-8479-de2a6c2eedf3",
   "metadata": {},
   "outputs": [
    {
     "name": "stdout",
     "output_type": "stream",
     "text": [
      "Hello from micrograd_pytorch!\n"
     ]
    }
   ],
   "source": [
    "print(\"Hello from micrograd_pytorch!\")"
   ]
  },
  {
   "cell_type": "code",
   "execution_count": null,
   "id": "81bb7093-7e52-419b-9af5-1962753bf47a",
   "metadata": {},
   "outputs": [],
   "source": []
  }
 ],
 "metadata": {
  "kernelspec": {
   "display_name": "Python 3 (ipykernel)",
   "language": "python",
   "name": "python3"
  },
  "language_info": {
   "codemirror_mode": {
    "name": "ipython",
    "version": 3
   },
   "file_extension": ".py",
   "mimetype": "text/x-python",
   "name": "python",
   "nbconvert_exporter": "python",
   "pygments_lexer": "ipython3",
   "version": "3.12.5"
  }
 },
 "nbformat": 4,
 "nbformat_minor": 5
}
