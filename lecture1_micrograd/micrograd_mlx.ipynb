{
 "cells": [
  {
   "cell_type": "code",
   "execution_count": null,
   "id": "dbf85179-696d-47dc-a30d-70ff83f3f3e9",
   "metadata": {},
   "outputs": [],
   "source": []
  }
 ],
 "metadata": {
  "kernelspec": {
   "display_name": "",
   "name": ""
  },
  "language_info": {
   "name": ""
  }
 },
 "nbformat": 4,
 "nbformat_minor": 5
}
